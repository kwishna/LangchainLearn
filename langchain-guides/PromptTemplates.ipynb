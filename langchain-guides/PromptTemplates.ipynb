{
 "cells": [
  {
   "cell_type": "markdown",
   "metadata": {},
   "source": [
    "## LangChain Prompt Templates\n",
    "\n",
    "This notebook demonstrates how to use LangChain for creating chat-based prompt templates for the GPT-like language model. \n",
    "\n",
    "Utilizing these templates allows for dynamic and flexible interactions with large language models, ensuring we can harness their full potential for specific tasks.\n",
    "\n",
    "**Benefits of Using Prompt Templates**:\n",
    "1. *Consistency*: Same tasks can be executed across sessions with standardized prompts.\n",
    "2. *Efficiency*: Reduces the need for manually typing and formulating prompts.\n",
    "3. *Flexibility*: Easy to alter parameters to get varied responses.\n",
    "4. *Validation*: Helps in ensuring correct and expected variable inputs.\n",
    "5. *Model Agnostic*: Templates can be reused across different language models."
   ]
  },
  {
   "cell_type": "markdown",
   "metadata": {},
   "source": [
    "### Requirements\n",
    "To run this notebook successfully, make sure you've installed the following Python packages:\n",
    "\n",
    "- `langchain`: Provides the main functionality to interact with YouTube videos\n",
    "- `openai`: Allows us to use OpenAI LLM models like GPT-3.5\n",
    "- `python-dotenv`: Used to read the .env file containing the OpenAI API Key\n",
    "- `ipykernel`: Enables running this notebook in VSCode\n",
    "\n",
    "You can install all of these with a single pip command:\n",
    "\n",
    "```bash\n",
    "pip install langchain openai python-dotenv ipykernel\n",
    "```"
   ]
  },
  {
   "cell_type": "markdown",
   "metadata": {},
   "source": [
    "### Loading API Key\n",
    "\n",
    "We need to load the OpenAI API key to utilize OpenAI's GPT models.\n",
    "\n",
    "*Note:* to run this code you'll need to sign up for an OpenAI API key and replace `YOUR_API_KEY` with your actual key."
   ]
  },
  {
   "cell_type": "code",
   "execution_count": 1,
   "metadata": {},
   "outputs": [
    {
     "data": {
      "text/plain": [
       "True"
      ]
     },
     "execution_count": 1,
     "metadata": {},
     "output_type": "execute_result"
    }
   ],
   "source": [
    "import os\n",
    "from dotenv import load_dotenv\n",
    "\n",
    "# load_dotenv()\n",
    "\n",
    "# Get the absolute path of the current script\n",
    "script_dir = os.path.abspath(os.getcwd())\n",
    "\n",
    "# Get the absolute path of the parent directory\n",
    "parent_dir = os.path.join(script_dir, os.pardir)\n",
    "\n",
    "dotenv_path = os.path.join(parent_dir, '.env')\n",
    "# Load the .env file from the parent directory\n",
    "load_dotenv(dotenv_path)"
   ]
  },
  {
   "cell_type": "markdown",
   "metadata": {},
   "source": [
    "### Imports & Initial Setup"
   ]
  },
  {
   "cell_type": "code",
   "execution_count": 2,
   "metadata": {},
   "outputs": [],
   "source": [
    "from langchain.prompts import ChatPromptTemplate\n",
    "from langchain.chat_models import ChatOpenAI\n",
    "\n",
    "# Using the default GPT-3.5 model with temperature 0.7\n",
    "chat = ChatOpenAI()"
   ]
  },
  {
   "cell_type": "code",
   "execution_count": 3,
   "metadata": {},
   "outputs": [
    {
     "data": {
      "text/plain": [
       "('gpt-3.5-turbo', 0.7)"
      ]
     },
     "execution_count": 3,
     "metadata": {},
     "output_type": "execute_result"
    }
   ],
   "source": [
    "chat.model_name, chat.temperature"
   ]
  },
  {
   "cell_type": "markdown",
   "metadata": {},
   "source": [
    "### Tourist Guide Template\n",
    "\n",
    "This template provides a short trip guide based on:\n",
    "\n",
    "- **city_name**: Name of the city.\n",
    "- **interest**: The person's particular interest (e.g., art, history).\n",
    "- **stay_duration**: Duration of the person's stay (e.g., 3 days, a week).\n",
    "- **budget**: The person's budget (e.g., low, moderate, high).\n"
   ]
  },
  {
   "cell_type": "code",
   "execution_count": 4,
   "metadata": {},
   "outputs": [
    {
     "name": "stdout",
     "output_type": "stream",
     "text": [
      "<class 'langchain.prompts.chat.ChatPromptTemplate'>\n"
     ]
    }
   ],
   "source": [
    "tourist_guide_string = \"\"\"Create a travel plan for in {city_name} \\\n",
    "for someone interested in {interest}, \\\n",
    "staying for {stay_duration}, \\\n",
    "and having a {budget} budget.\"\"\"\n",
    "\n",
    "tourist_guide_template = ChatPromptTemplate.from_template(tourist_guide_string)\n",
    "\n",
    "print(type(tourist_guide_template))"
   ]
  },
  {
   "cell_type": "code",
   "execution_count": 5,
   "metadata": {},
   "outputs": [
    {
     "name": "stdout",
     "output_type": "stream",
     "text": [
      "input_variables=['interest', 'city_name', 'stay_duration', 'budget'] output_parser=None partial_variables={} messages=[HumanMessagePromptTemplate(prompt=PromptTemplate(input_variables=['budget', 'city_name', 'interest', 'stay_duration'], output_parser=None, partial_variables={}, template='Create a travel plan for in {city_name} for someone interested in {interest}, staying for {stay_duration}, and having a {budget} budget.', template_format='f-string', validate_template=True), additional_kwargs={})]\n"
     ]
    }
   ],
   "source": [
    "print(tourist_guide_template)"
   ]
  },
  {
   "cell_type": "code",
   "execution_count": 6,
   "metadata": {},
   "outputs": [
    {
     "name": "stdout",
     "output_type": "stream",
     "text": [
      "[HumanMessage(content='Create a travel plan for in Paris for someone interested in art, staying for 3 days, and having a moderate budget.', additional_kwargs={}, example=False)]\n"
     ]
    }
   ],
   "source": [
    "tourist_guide_messages = tourist_guide_template.format_messages(\n",
    "    city_name=\"Paris\",\n",
    "    interest=\"art\",\n",
    "    stay_duration=\"3 days\",\n",
    "    budget=\"moderate\",\n",
    ")\n",
    "\n",
    "print(tourist_guide_messages)"
   ]
  },
  {
   "cell_type": "code",
   "execution_count": 7,
   "metadata": {},
   "outputs": [],
   "source": [
    "response_travel = chat(tourist_guide_messages)\n"
   ]
  },
  {
   "cell_type": "code",
   "execution_count": 8,
   "metadata": {},
   "outputs": [
    {
     "name": "stdout",
     "output_type": "stream",
     "text": [
      "Day 1:\n",
      "- Morning: Start your day by visiting the Louvre Museum, which houses a vast collection of art from around the world, including the famous Mona Lisa. Consider purchasing tickets in advance to avoid long queues.\n",
      "- Afternoon: Explore the charming neighborhood of Montmartre, known for its bohemian atmosphere and artistic history. Visit the iconic Sacré-Cœur Basilica, stroll through the narrow streets, and discover local artists painting in Place du Tertre.\n",
      "- Evening: Enjoy dinner in a cozy bistro in Montmartre, savoring classic French cuisine and soaking in the artistic ambiance of the area.\n",
      "\n",
      "Day 2:\n",
      "- Morning: Head to the Musée d'Orsay, located in a former railway station, to admire its extensive collection of impressionist and post-impressionist masterpieces. Marvel at works by Monet, Renoir, Van Gogh, and many others.\n",
      "- Afternoon: Take a leisurely walk along the Seine River, crossing the Pont des Arts bridge adorned with love locks. Visit the Centre Pompidou, a modern art museum showcasing contemporary works, and enjoy panoramic views of Paris from its rooftop terrace.\n",
      "- Evening: Experience the vibrant nightlife of the Marais district. Explore its numerous art galleries, trendy boutiques, and stylish bars. Consider catching a show at one of the many theaters in the area.\n",
      "\n",
      "Day 3:\n",
      "- Morning: Visit the Musée de l'Orangerie, located in the beautiful Tuileries Garden, to admire Claude Monet's Water Lilies series. This tranquil museum provides a unique and immersive experience of Monet's extraordinary work.\n",
      "- Afternoon: Explore the artistic neighborhood of Saint-Germain-des-Prés, known for its literary and intellectual history. Visit the famous Café de Flore or Les Deux Magots, where famous writers and artists once gathered. Browse through bookshops, antique stores, and art galleries in the area.\n",
      "- Evening: End your trip with a cruise along the Seine River, enjoying breathtaking views of Paris illuminated at night. Consider booking a dinner cruise to combine a delicious meal with the sightseeing experience.\n",
      "\n",
      "Remember to check museum opening hours and consider purchasing a Paris Museum Pass if you plan to visit several museums, as it offers skip-the-line access and can help save money. Additionally, try local street food or opt for fixed-price menus in restaurants to manage your budget efficiently while enjoying delicious French cuisine.\n"
     ]
    }
   ],
   "source": [
    "print(response_travel.content)"
   ]
  },
  {
   "cell_type": "markdown",
   "metadata": {},
   "source": [
    "**Keep playing with it**\n",
    "\n",
    "Here are other potential `input_variables` you could try:\n",
    "```\n",
    "travel_variables = [\n",
    "    {\"city_name\": \"Paris\", \"interest\": \"Renaissance art and museums\", \"stay_duration\": \"4 days\", \"budget\": \"3000\"},\n",
    "    {\"city_name\": \"Tokyo\", \"interest\": \"modern technology and gadget shopping\", \"stay_duration\": \"1 week\", \"budget\": \"1500\"},\n",
    "    {\"city_name\": \"Cairo\", \"interest\": \"ancient pyramids and Egyptian history\", \"stay_duration\": \"3 days\", \"budget\": \"500\"},\n",
    "    {\"city_name\": \"Sydney\", \"interest\": \"coastal hikes and famous landmarks\", \"stay_duration\": \"5 days\", \"budget\": \"2500\"},\n",
    "    {\"city_name\": \"Rio de Janeiro\", \"interest\": \"vibrant street festivals and samba dancing\", \"stay_duration\": \"2 days\", \"budget\": \"800\"},\n",
    "    {\"city_name\": \"New York City\", \"interest\": \"Broadway shows and urban exploration\", \"stay_duration\": \"1 week\", \"budget\": \"2000\"},\n",
    "    {\"city_name\": \"Bangkok\", \"interest\": \"street food markets and Thai culinary experiences\", \"stay_duration\": \"3 days\", \"budget\": \"1200\"},\n",
    "    {\"city_name\": \"Venice\", \"interest\": \"gondola rides and historic architecture\", \"stay_duration\": \"4 days\", \"budget\": \"1800\"},\n",
    "    {\"city_name\": \"Cape Town\", \"interest\": \"mountain hiking and scenic coastal views\", \"stay_duration\": \"1 week\", \"budget\": \"900\"},\n",
    "    {\"city_name\": \"Beijing\", \"interest\": \"Imperial history and traditional Chinese culture\", \"stay_duration\": \"6 days\", \"budget\": \"2200\"}\n",
    "]\n",
    "```"
   ]
  },
  {
   "cell_type": "markdown",
   "metadata": {},
   "source": [
    "### Story Writing Template\n",
    "Description: This template guides the writing of a story based on:\n",
    "\n",
    "- **word_limit**: Desired length of the story in words.\n",
    "- **writing_style**: Style of writing (e.g., narrative, descriptive).\n",
    "- **genre**: Genre of the story (e.g., mystery, romance).\n",
    "- **starting_sentence**: The sentence to start the story with."
   ]
  },
  {
   "cell_type": "code",
   "execution_count": null,
   "metadata": {},
   "outputs": [],
   "source": [
    "story_writing_string = \"\"\"Write a {word_limit}-word \\\n",
    "{writing_style} {genre} story \\\n",
    "starting with the sentence: {starting_sentence}.\"\"\"\n",
    "\n",
    "story_writing_template = ChatPromptTemplate.from_template(story_writing_string)\n",
    "\n",
    "story_messages = story_writing_template.format_messages(\n",
    "    word_limit=\"300\", \n",
    "    writing_style=\"narrative\", \n",
    "    genre=\"mystery\", \n",
    "    starting_sentence=\"The boat had disappeared over the horizon.\"\n",
    ")\n",
    "\n",
    "print(story_messages)"
   ]
  },
  {
   "cell_type": "code",
   "execution_count": null,
   "metadata": {},
   "outputs": [],
   "source": [
    "response_story = chat(story_messages)"
   ]
  },
  {
   "cell_type": "code",
   "execution_count": null,
   "metadata": {},
   "outputs": [],
   "source": [
    "print(response_story.content)"
   ]
  },
  {
   "cell_type": "markdown",
   "metadata": {},
   "source": [
    "**Keep experimenting**\n",
    "\n",
    "Here are other `input_variables` you could try:\n",
    "\n",
    "```\n",
    "creative_writing_variables = [\n",
    "    {\"word_limit\": \"500\", \"writing_style\": \"atmospheric and melancholic\", \"genre\": \"urban fantasy\", \"starting_sentence\": \"In the dim glow of twilight, the city revealed its secrets.\"},\n",
    "    {\"word_limit\": \"400\", \"writing_style\": \"mysterious and intriguing\", \"genre\": \"mystery\", \"starting_sentence\": \"Every morning, I found a new letter on my doorstep, but no sign of the sender.\"},\n",
    "    {\"word_limit\": \"600\", \"writing_style\": \"lighthearted and comedic\", \"genre\": \"romantic comedy\", \"starting_sentence\": \"The day started with coffee spilled all over her dress, and it only got weirder from there.\"},\n",
    "    {\"word_limit\": \"300\", \"writing_style\": \"dark and suspenseful\", \"genre\": \"thriller\", \"starting_sentence\": \"The clock struck midnight, and a knock echoed through the silent house.\"},\n",
    "    {\"word_limit\": \"550\", \"writing_style\": \"whimsical and dreamy\", \"genre\": \"fantasy\", \"starting_sentence\": \"Among the clouds, cities floated, and each had its own tale.\"},\n",
    "    {\"word_limit\": \"450\", \"writing_style\": \"intense and gripping\", \"genre\": \"drama\", \"starting_sentence\": \"The promise made years ago was now coming to haunt them.\"},\n",
    "    {\"word_limit\": \"350\", \"writing_style\": \"reflective and philosophical\", \"genre\": \"slice of life\", \"starting_sentence\": \"In the grand scheme of things, he pondered, what was the meaning of a single day?\"},\n",
    "    {\"word_limit\": \"520\", \"writing_style\": \"adventurous and thrilling\", \"genre\": \"adventure\", \"starting_sentence\": \"With the map in one hand and a compass in another, she ventured into the unknown.\"},\n",
    "    {\"word_limit\": \"480\", \"writing_style\": \"eerie and haunting\", \"genre\": \"horror\", \"starting_sentence\": \"Whispers echoed from the walls, but the house had been abandoned for decades.\"},\n",
    "    {\"word_limit\": \"500\", \"writing_style\": \"inspiring and uplifting\", \"genre\": \"inspirational\", \"starting_sentence\": \"Every end is a new beginning, she reminded herself.\"}\n",
    "]\n",
    "```"
   ]
  },
  {
   "cell_type": "markdown",
   "metadata": {},
   "source": [
    "## Conclusion\n",
    "\n",
    "LangChain offers a seamless approach to create and work with chat-based prompt templates, facilitating dynamic interactions with models like GPT-4 and simplifying the process of generating specific and contextualized prompts.\n",
    "\n",
    "Using prompt templates, especially in combination with powerful language models, has a broad range of practical applications. Here are 10 potential applications:\n",
    "\n",
    "\n",
    "1. **Content Generation**:\n",
    "\n",
    "Automate the creation of articles, blogs, or other content based on predefined themes, tones, or styles.\n",
    "\n",
    "\n",
    "2. **Customer Support**:\n",
    "\n",
    "Standardize initial queries or troubleshooting steps, enabling quicker issue identification and resolution.\n",
    "\n",
    "\n",
    "3. **Education & Tutoring**:\n",
    "\n",
    "Teachers or educational platforms can use templates to generate quiz questions, assignments, or even explanations on various topics in a consistent format.\n",
    "\n",
    "\n",
    "4. **Data Analysis**:\n",
    "\n",
    "Users can create templates to ask language models to perform specific types of data analyses, generating insights or visualizations on datasets.\n",
    "\n",
    "\n",
    "5. **Entertainment & Gaming**:\n",
    "\n",
    "Game developers can generate dynamic in-game dialogues, storylines, or character backgrounds using templates.\n",
    "\n",
    "\n",
    "6. **Research Assistance**:\n",
    "\n",
    "Researchers can use templates to scan or summarize vast amounts of literature based on specific research questions or themes.\n",
    "\n",
    "\n",
    "7. **Translation & Localization**:\n",
    "\n",
    "Generate translations for standardized messages or content across multiple languages.\n",
    "\n",
    "\n",
    "8. **E-commerce & Retail**:\n",
    "\n",
    "Retailers can use templates to generate product descriptions, reviews, or even marketing messages based on product attributes.\n",
    "\n",
    "\n",
    "9. **Recruitment & HR**:\n",
    "\n",
    "HR departments can use templates to draft standardized interview questions, job descriptions, or feedback forms tailored to specific roles or departments.\n",
    "\n",
    "\n",
    "10. **Healthcare**:\n",
    "\n",
    "Health practitioners can use templates for patient intake forms, diagnosis reports, or even to draft advice or recommendations based on specific symptoms or conditions."
   ]
  },
  {
   "cell_type": "code",
   "execution_count": null,
   "metadata": {},
   "outputs": [],
   "source": []
  }
 ],
 "metadata": {
  "kernelspec": {
   "display_name": "langchain",
   "language": "python",
   "name": "python3"
  },
  "language_info": {
   "codemirror_mode": {
    "name": "ipython",
    "version": 3
   },
   "file_extension": ".py",
   "mimetype": "text/x-python",
   "name": "python",
   "nbconvert_exporter": "python",
   "pygments_lexer": "ipython3",
   "version": "3.9.17"
  },
  "orig_nbformat": 4
 },
 "nbformat": 4,
 "nbformat_minor": 2
}
